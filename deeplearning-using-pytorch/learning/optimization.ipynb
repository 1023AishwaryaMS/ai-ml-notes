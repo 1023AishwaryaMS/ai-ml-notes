{
  "cells": [
    {
      "cell_type": "markdown",
      "metadata": {
        "id": "view-in-github",
        "colab_type": "text"
      },
      "source": [
        "<a href=\"https://colab.research.google.com/github/venkataravuri/ai-ml/blob/master/deeplearning-using-pytorch/learning/optimization.ipynb\" target=\"_parent\"><img src=\"https://colab.research.google.com/assets/colab-badge.svg\" alt=\"Open In Colab\"/></a>"
      ]
    },
    {
      "cell_type": "code",
      "source": [
        "!pip install torch torchvision -q"
      ],
      "metadata": {
        "id": "c7jXGd4skdxs"
      },
      "execution_count": null,
      "outputs": []
    },
    {
      "cell_type": "code",
      "execution_count": null,
      "metadata": {
        "id": "GRfnydkXjZ27"
      },
      "outputs": [],
      "source": [
        "%matplotlib inline\n",
        "import matplotlib.pyplot as plt\n",
        "\n",
        "import torch\n",
        "from torch import nn\n",
        "from torchvision import datasets"
      ]
    },
    {
      "cell_type": "markdown",
      "source": [
        "##### Lambda Transformations\n",
        "Lambda transforms apply any user-defined lambda function. Here, we define a function to turn the\n",
        "integer into a one-hot encoded tensor.\n",
        "\n",
        "It first creates a zero tensor of size 10 (the number of labels in our dataset)\n",
        "and calls scatter_ which assigns a value=1 on the index as given by the label y."
      ],
      "metadata": {
        "id": "dKdBw2Z6MqcU"
      }
    },
    {
      "cell_type": "code",
      "execution_count": null,
      "metadata": {
        "id": "D9qrxF_NjZ28"
      },
      "outputs": [],
      "source": [
        "from torchvision.transforms import ToTensor, Lambda\n",
        "\n",
        "training_data = datasets.FashionMNIST(\n",
        "    root=\"data\",\n",
        "    train=True,\n",
        "    download=True,\n",
        "    transform=ToTensor(),\n",
        "    target_transform = Lambda(lambda y: torch.zeros(10, dtype=torch.float).scatter_(dim=0, index=torch.tensor(y), value=1))\n",
        ")\n",
        "\n",
        "test_data = datasets.FashionMNIST(\n",
        "    root=\"data\",\n",
        "    train=False,\n",
        "    download=True,\n",
        "    transform=ToTensor().\n",
        "    target_transformation = Lambda(lambda y: torch.zeros(10, dtype=torch.float).scatter_(dim=0, index=torch.tensor(y), value=1))\n",
        ")"
      ]
    },
    {
      "cell_type": "markdown",
      "source": [
        "### Iterating and Visualizing the Dataset"
      ],
      "metadata": {
        "id": "jJjdbwbnl5PQ"
      }
    },
    {
      "cell_type": "code",
      "source": [
        "labels_map = {\n",
        "  0: \"T-Shirt\",\n",
        "  1: \"Trouser\",\n",
        "  2: \"Pullover\",\n",
        "  3: \"Dress\",\n",
        "  4: \"Coat\",\n",
        "  5: \"Sandal\",\n",
        "  6: \"Shirt\",\n",
        "  7: \"Sneaker\",\n",
        "  8: \"Bag\",\n",
        "  9: \"Ankle Boot\"\n",
        "}\n",
        "\n",
        "figure = plt.figure(figsize=(8,8))\n",
        "rows, cols = 3, 3\n",
        "for i in range(1, len(rows*cols + 1)):\n",
        "  sample_idx = torch.randint(len(training_data), size=(1,)).item()\n",
        "  img, label = training_data[sample_idx]\n",
        "  figure.sub_plot(rows, cols, i)\n",
        "  plt.title(labels_map[label])\n",
        "  plt.axis(\"off\")\n",
        "  plt.imshow(img.squeeze(0), cmap=\"gray\")\n",
        "\n",
        "plt.show()"
      ],
      "metadata": {
        "id": "Yi0ZLisJqimC"
      },
      "execution_count": null,
      "outputs": []
    },
    {
      "cell_type": "code",
      "execution_count": null,
      "metadata": {
        "id": "2Bqu1eLUjZ29"
      },
      "outputs": [],
      "source": [
        "from torch.utils.data import DataLoader\n",
        "\n",
        "train_dataloader = DataLoader(training_data, batch_size=64, shuffle=True)\n",
        "test_dataloader = DataLoader(test_data, batch_size=64, shuffle=True)"
      ]
    },
    {
      "cell_type": "markdown",
      "source": [
        "#### Iterate through the DataLoader"
      ],
      "metadata": {
        "id": "I8M4CJL_uM7j"
      }
    },
    {
      "cell_type": "code",
      "source": [
        "# Display image and label\n",
        "train_features, train_labels = next(iter(train_dataloader))\n",
        "print(f\"Feature batch shape: {train_features.size()}\")\n",
        "print(f\"Labels batch shape: {train_labels.size()}\")\n",
        "img = train_features[0].squeeze()\n",
        "label = train_labels[0]\n",
        "plt.imshow(img, cmap=\"gray\")\n",
        "plt.show()\n",
        "print(f\"Label: {label}\")"
      ],
      "metadata": {
        "id": "dIhcHRaiLS9C"
      },
      "execution_count": null,
      "outputs": []
    },
    {
      "cell_type": "code",
      "execution_count": null,
      "metadata": {
        "id": "nndQoVO2jZ2-"
      },
      "outputs": [],
      "source": [
        "class NeuralNetwork(nn.Module):\n",
        "    def __init__(self):\n",
        "        super(NeuralNetwork, self).__init__()\n",
        "        self.flatten = nn.Flatten()\n",
        "        self.linear_relu_stack = nn.Sequential(\n",
        "            nn.Linear(28*28, 512),\n",
        "            nn.ReLU(),\n",
        "            nn.Linear(512, 512),\n",
        "            nn.ReLU(),\n",
        "            nn.Linear(512, 10),\n",
        "            nn.ReLU()\n",
        "        )\n",
        "\n",
        "    def forward(self, x):\n",
        "        x = self.flatten(x)\n",
        "        logits = self.linear_relu_stack(x)\n",
        "        return logits\n",
        "\n",
        "model = NeuralNetwork()"
      ]
    },
    {
      "cell_type": "code",
      "execution_count": null,
      "metadata": {
        "id": "pkADYqA_jZ2-"
      },
      "outputs": [],
      "source": [
        "learning_rate = 1e-3\n",
        "batch_size = 64\n",
        "epochs = 5"
      ]
    },
    {
      "cell_type": "code",
      "execution_count": null,
      "metadata": {
        "id": "huWOSaoXjZ2_"
      },
      "outputs": [],
      "source": [
        "loss_fn = nn.CrossEntropyLoss()"
      ]
    },
    {
      "cell_type": "code",
      "execution_count": null,
      "metadata": {
        "id": "LwPvpdCYjZ3A"
      },
      "outputs": [],
      "source": [
        "optimizer = torch.optim.SGD(model.parameters(), lr=learning_rate)"
      ]
    },
    {
      "cell_type": "code",
      "execution_count": null,
      "metadata": {
        "id": "mzdX6TgSjZ3A"
      },
      "outputs": [],
      "source": [
        "def train_loop(dataloader, model, loss_fn, optimizer):\n",
        "    size = len(dataloader.dataset)\n",
        "    for batch, (X, y) in enumerate(dataloader):\n",
        "        pred = model(X)\n",
        "        loss = loss_fn(pred, y)\n",
        "\n",
        "        optimizer.zero_grad()\n",
        "        loss.backward()\n",
        "        optimizer.step()\n",
        "\n",
        "        if batch % 100 == 0:\n",
        "            loss, current = loss.item(), batch * len(X)\n",
        "            print(f\"loss: {loss:>7f} [{current:>5d}/{size:>5d}]\")\n",
        "\n",
        "def test_loop(dataloader, model, loss_fn):\n",
        "    size = len(dataloader.dataset)\n",
        "    test_loss, correct = 0, 0\n",
        "\n",
        "    with torch.no_grad():\n",
        "        for X, y in dataloader:\n",
        "            pred = model(X)\n",
        "            test_loss += loss_fn(pred, y).item()\n",
        "            correct += (pred.argmax(1) == y).type(torch.float).sum().item()\n",
        "\n",
        "    test_loss /= size\n",
        "    correct /= size\n",
        "    print(f\"Test Error: \\n Accuracy: {(100*correct):>0.1f}%, Avg loss:{test_loss:>8f} \\n\")"
      ]
    },
    {
      "cell_type": "code",
      "execution_count": null,
      "metadata": {
        "id": "_4VVaw5MjZ3B",
        "outputId": "46a9dd0c-f5e3-4f75-c719-92c9a916a4e5"
      },
      "outputs": [
        {
          "name": "stdout",
          "output_type": "stream",
          "text": [
            "Epoch 1\n",
            "-----------------------------\n",
            "loss: 1.289009 [    0/60000]\n",
            "loss: 1.427784 [ 6400/60000]\n",
            "loss: 1.255570 [12800/60000]\n",
            "loss: 1.662971 [19200/60000]\n",
            "loss: 1.344890 [25600/60000]\n",
            "loss: 1.431935 [32000/60000]\n",
            "loss: 1.449762 [38400/60000]\n",
            "loss: 1.287106 [44800/60000]\n",
            "loss: 1.411852 [51200/60000]\n",
            "loss: 1.658062 [57600/60000]\n",
            "Test Error: \n",
            " Accuracy: 53.1%, Avg loss:0.022533 \n",
            "\n",
            "Epoch 2\n",
            "-----------------------------\n",
            "loss: 1.261438 [    0/60000]\n",
            "loss: 1.401375 [ 6400/60000]\n",
            "loss: 1.227535 [12800/60000]\n",
            "loss: 1.646407 [19200/60000]\n",
            "loss: 1.332305 [25600/60000]\n",
            "loss: 1.413291 [32000/60000]\n",
            "loss: 1.432277 [38400/60000]\n",
            "loss: 1.269274 [44800/60000]\n",
            "loss: 1.393638 [51200/60000]\n",
            "loss: 1.642296 [57600/60000]\n",
            "Test Error: \n",
            " Accuracy: 54.0%, Avg loss:0.022238 \n",
            "\n",
            "Epoch 3\n",
            "-----------------------------\n",
            "loss: 1.235470 [    0/60000]\n",
            "loss: 1.377498 [ 6400/60000]\n",
            "loss: 1.201715 [12800/60000]\n",
            "loss: 1.631931 [19200/60000]\n",
            "loss: 1.320752 [25600/60000]\n",
            "loss: 1.396435 [32000/60000]\n",
            "loss: 1.416029 [38400/60000]\n",
            "loss: 1.253139 [44800/60000]\n",
            "loss: 1.376535 [51200/60000]\n",
            "loss: 1.627623 [57600/60000]\n",
            "Test Error: \n",
            " Accuracy: 54.7%, Avg loss:0.021964 \n",
            "\n",
            "Epoch 4\n",
            "-----------------------------\n",
            "loss: 1.210725 [    0/60000]\n",
            "loss: 1.355538 [ 6400/60000]\n",
            "loss: 1.177333 [12800/60000]\n",
            "loss: 1.619143 [19200/60000]\n",
            "loss: 1.309941 [25600/60000]\n",
            "loss: 1.380296 [32000/60000]\n",
            "loss: 1.400650 [38400/60000]\n",
            "loss: 1.238459 [44800/60000]\n",
            "loss: 1.360447 [51200/60000]\n",
            "loss: 1.613679 [57600/60000]\n",
            "Test Error: \n",
            " Accuracy: 55.4%, Avg loss:0.021704 \n",
            "\n",
            "Epoch 5\n",
            "-----------------------------\n",
            "loss: 1.186642 [    0/60000]\n",
            "loss: 1.334755 [ 6400/60000]\n",
            "loss: 1.154252 [12800/60000]\n",
            "loss: 1.607576 [19200/60000]\n",
            "loss: 1.299130 [25600/60000]\n",
            "loss: 1.365339 [32000/60000]\n",
            "loss: 1.385687 [38400/60000]\n",
            "loss: 1.224513 [44800/60000]\n",
            "loss: 1.345132 [51200/60000]\n",
            "loss: 1.600325 [57600/60000]\n",
            "Test Error: \n",
            " Accuracy: 55.9%, Avg loss:0.021453 \n",
            "\n",
            "Epoch 6\n",
            "-----------------------------\n",
            "loss: 1.163130 [    0/60000]\n",
            "loss: 1.314557 [ 6400/60000]\n",
            "loss: 1.132501 [12800/60000]\n",
            "loss: 1.596647 [19200/60000]\n",
            "loss: 1.288627 [25600/60000]\n",
            "loss: 1.350926 [32000/60000]\n",
            "loss: 1.371105 [38400/60000]\n",
            "loss: 1.211628 [44800/60000]\n",
            "loss: 1.330290 [51200/60000]\n",
            "loss: 1.586941 [57600/60000]\n",
            "Test Error: \n",
            " Accuracy: 56.4%, Avg loss:0.021209 \n",
            "\n",
            "Epoch 7\n",
            "-----------------------------\n",
            "loss: 1.140313 [    0/60000]\n",
            "loss: 1.294461 [ 6400/60000]\n",
            "loss: 1.111568 [12800/60000]\n",
            "loss: 1.586317 [19200/60000]\n",
            "loss: 1.278174 [25600/60000]\n",
            "loss: 1.336642 [32000/60000]\n",
            "loss: 1.356764 [38400/60000]\n",
            "loss: 1.199257 [44800/60000]\n",
            "loss: 1.315758 [51200/60000]\n",
            "loss: 1.574058 [57600/60000]\n",
            "Test Error: \n",
            " Accuracy: 56.8%, Avg loss:0.020973 \n",
            "\n",
            "Epoch 8\n",
            "-----------------------------\n",
            "loss: 1.118200 [    0/60000]\n",
            "loss: 1.275535 [ 6400/60000]\n",
            "loss: 1.091748 [12800/60000]\n",
            "loss: 1.575630 [19200/60000]\n",
            "loss: 1.267325 [25600/60000]\n",
            "loss: 1.322399 [32000/60000]\n",
            "loss: 1.343071 [38400/60000]\n",
            "loss: 1.187754 [44800/60000]\n",
            "loss: 1.301831 [51200/60000]\n",
            "loss: 1.561239 [57600/60000]\n",
            "Test Error: \n",
            " Accuracy: 57.1%, Avg loss:0.020743 \n",
            "\n",
            "Epoch 9\n",
            "-----------------------------\n",
            "loss: 1.097103 [    0/60000]\n",
            "loss: 1.257635 [ 6400/60000]\n",
            "loss: 1.073093 [12800/60000]\n",
            "loss: 1.564892 [19200/60000]\n",
            "loss: 1.255114 [25600/60000]\n",
            "loss: 1.306872 [32000/60000]\n",
            "loss: 1.327571 [38400/60000]\n",
            "loss: 1.173179 [44800/60000]\n",
            "loss: 1.300742 [51200/60000]\n",
            "loss: 1.553126 [57600/60000]\n",
            "Test Error: \n",
            " Accuracy: 64.7%, Avg loss:0.019575 \n",
            "\n",
            "Epoch 10\n",
            "-----------------------------\n",
            "loss: 1.066392 [    0/60000]\n",
            "loss: 1.163664 [ 6400/60000]\n",
            "loss: 0.965076 [12800/60000]\n",
            "loss: 1.446401 [19200/60000]\n",
            "loss: 1.154307 [25600/60000]\n",
            "loss: 1.278101 [32000/60000]\n",
            "loss: 1.252631 [38400/60000]\n",
            "loss: 1.147509 [44800/60000]\n",
            "loss: 1.289290 [51200/60000]\n",
            "loss: 1.540499 [57600/60000]\n",
            "Test Error: \n",
            " Accuracy: 65.2%, Avg loss:0.018974 \n",
            "\n",
            "Done!\n"
          ]
        }
      ],
      "source": [
        "epochs = 10\n",
        "for t in range(epochs):\n",
        "    print(f\"Epoch {t+1}\\n-----------------------------\")\n",
        "    train_loop(train_dataloader, model, loss_fn, optimizer)\n",
        "    test_loop(test_dataloader, model, loss_fn)\n",
        "\n",
        "print(\"Done!\")"
      ]
    },
    {
      "cell_type": "code",
      "execution_count": null,
      "metadata": {
        "id": "azs2XyuYjZ3C",
        "outputId": "978755c1-7786-4e30-cf64-b2528b1b92d0"
      },
      "outputs": [
        {
          "name": "stdout",
          "output_type": "stream",
          "text": [
            "Saved PyTorch Model State to model.pth\n"
          ]
        }
      ],
      "source": [
        "torch.save(model.state_dict(), \"data/model.pth\")\n",
        "\n",
        "print(\"Saved PyTorch Model State to model.pth\")"
      ]
    },
    {
      "cell_type": "code",
      "execution_count": null,
      "metadata": {
        "id": "LXSCEFWdjZ3C"
      },
      "outputs": [],
      "source": []
    }
  ],
  "metadata": {
    "kernelspec": {
      "display_name": "mlenv",
      "language": "python",
      "name": "python3"
    },
    "language_info": {
      "codemirror_mode": {
        "name": "ipython",
        "version": 3
      },
      "file_extension": ".py",
      "mimetype": "text/x-python",
      "name": "python",
      "nbconvert_exporter": "python",
      "pygments_lexer": "ipython3",
      "version": "3.10.9"
    },
    "orig_nbformat": 4,
    "colab": {
      "provenance": [],
      "include_colab_link": true
    }
  },
  "nbformat": 4,
  "nbformat_minor": 0
}